{
 "cells": [
  {
   "cell_type": "code",
   "execution_count": 28,
   "metadata": {},
   "outputs": [],
   "source": [
    "from data_loader import safe_agg, load_data, combine_datasets, prepare_dataset, allign_columns\n",
    "import pandas as pd\n",
    "import numpy as np"
   ]
  },
  {
   "cell_type": "code",
   "execution_count": 29,
   "metadata": {},
   "outputs": [],
   "source": [
    "aggregations = {\n",
    "    'syn_flag_counts':          safe_agg(pd.Series.sum), \n",
    "    'rst_flag_counts':          safe_agg(pd.Series.sum),\n",
    "    'ack_flag_counts':          safe_agg(pd.Series.sum), \n",
    "    'packets_count':            safe_agg(pd.Series.sum),\n",
    "    'fwd_packets_count':        safe_agg(pd.Series.sum),\n",
    "    'bwd_packets_count':        safe_agg(pd.Series.sum),\n",
    "    'dst_port':                 safe_agg(pd.Series.nunique), \n",
    "    'src_port':                 safe_agg(pd.Series.nunique),\n",
    "    'src_ip':                   safe_agg(pd.Series.nunique),\n",
    "    'dst_ip':                   safe_agg(pd.Series.nunique),\n",
    "\n",
    "    'bytes_rate': safe_agg(pd.Series.mean), \n",
    "    'requests_rate': safe_agg(pd.Series.count),\n",
    "    'psh_flag_counts': safe_agg(pd.Series.sum),\n",
    "\n",
    "    'calculated_bwd_avg_segment_size': safe_agg(pd.Series.mean),\n",
    "    'bwd_payload_bytes_mean':          safe_agg(pd.Series.sum),\n",
    "    'bwd_init_win_bytes':             safe_agg(pd.Series.mean),\n",
    "    'subflow_bwd_bytes':              safe_agg(pd.Series.sum),\n",
    "    'bwd_total_payload_bytes':        safe_agg(pd.Series.sum),\n",
    "    'fwd_payload_bytes_min':          safe_agg(pd.Series.min),\n",
    "    'bwd_payload_bytes_max':          safe_agg(pd.Series.max),\n",
    "    \n",
    "    'packet_IAT_std':  safe_agg(pd.Series.std),\n",
    "    'packet_IAT_min':  safe_agg(pd.Series.min),\n",
    "    'packet_IAT_total': safe_agg(pd.Series.sum),\n",
    "}"
   ]
  },
  {
   "cell_type": "code",
   "execution_count": 30,
   "metadata": {},
   "outputs": [],
   "source": [
    "ddos =  load_data(f\"./BCCC-CIC-IDS-2017/ddos_loit.csv\", \"malign\")\n",
    "benign = load_data(f\"./BCCC-CIC-IDS-2017/friday_benign.csv\", \"benign\")\n",
    "\n",
    "combined = combine_datasets(ddos, benign)\n",
    "\n",
    "combined = prepare_dataset(combined, aggregations, include_labels=True, filter_subnet=True)"
   ]
  },
  {
   "cell_type": "code",
   "execution_count": 31,
   "metadata": {},
   "outputs": [
    {
     "name": "stdout",
     "output_type": "stream",
     "text": [
      "(1182, 34)\n",
      "(28972, 34)\n"
     ]
    }
   ],
   "source": [
    "set1 = prepare_dataset(ddos, aggregations, include_labels=True, filter_subnet=True)\n",
    "set2 = prepare_dataset(benign, aggregations, include_labels=True, filter_subnet=True)\n",
    "\n",
    "set1, set2 = allign_columns(set1, set2)\n",
    "\n",
    "print(set1.shape)\n",
    "print(set2.shape)"
   ]
  },
  {
   "cell_type": "code",
   "execution_count": 33,
   "metadata": {},
   "outputs": [
    {
     "name": "stdout",
     "output_type": "stream",
     "text": [
      "\n",
      "Classification Report:\n",
      "               precision    recall  f1-score   support\n",
      "\n",
      "      Normal       1.00      1.00      1.00     27889\n",
      "     Anomaly       0.88      0.94      0.91      1083\n",
      "\n",
      "    accuracy                           0.99     28972\n",
      "   macro avg       0.94      0.97      0.95     28972\n",
      "weighted avg       0.99      0.99      0.99     28972\n",
      "\n"
     ]
    }
   ],
   "source": [
    "from sklearn.ensemble import IsolationForest\n",
    "from sklearn.metrics import precision_recall_fscore_support\n",
    "from sklearn.metrics import classification_report\n",
    "\n",
    "def score_model(anomaly_score, y):\n",
    "    print(\"\\nClassification Report:\\n\", classification_report(y, anomaly_score, labels=[1, -1], target_names=[\"Normal\", \"Anomaly\"]))\n",
    "\n",
    "def find_best_contamination_for_isolation_forest(X, y):\n",
    "    best_f1, best_c = 0, None\n",
    "    for c in np.arange(0.01, 0.2, 0.01):\n",
    "        model = IsolationForest(contamination=c, random_state=42)\n",
    "        anomaly_score = model.fit_predict(X)\n",
    "\n",
    "        _, _, f1, _ = precision_recall_fscore_support(y, anomaly_score, average='binary')\n",
    "\n",
    "        if f1 > best_f1:\n",
    "            best_f1 = f1\n",
    "            best_c = c\n",
    "    \n",
    "    return best_c, best_f1\n",
    "\n",
    "X = combined\n",
    "y = combined['label']\n",
    "\n",
    "c, f1 = find_best_contamination_for_isolation_forest(X, y)\n",
    "model = IsolationForest(contamination=c, random_state=42)\n",
    "anomaly_score = model.fit_predict(X)\n",
    "score_model(anomaly_score, y)"
   ]
  }
 ],
 "metadata": {
  "kernelspec": {
   "display_name": "ucu",
   "language": "python",
   "name": "python3"
  },
  "language_info": {
   "codemirror_mode": {
    "name": "ipython",
    "version": 3
   },
   "file_extension": ".py",
   "mimetype": "text/x-python",
   "name": "python",
   "nbconvert_exporter": "python",
   "pygments_lexer": "ipython3",
   "version": "3.13.1"
  }
 },
 "nbformat": 4,
 "nbformat_minor": 2
}
